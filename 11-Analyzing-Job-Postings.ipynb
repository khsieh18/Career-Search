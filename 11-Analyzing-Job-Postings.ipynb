{
 "cells": [
  {
   "cell_type": "markdown",
   "metadata": {},
   "source": [
    "## Posting 1"
   ]
  },
  {
   "cell_type": "markdown",
   "metadata": {},
   "source": [
    "Data Scientist/Machine Learning Trainee\n",
    "A Day in the LIfe \n",
    "\n",
    "As a Data Scientist/Machine Learning Trainee, you will be working with a team of Data Science professionals who apply various cutting edge machine learning and statistical techniques to real-life use-cases and provide actionable insights to the business. You will have the opportunity of working with Norfolk Southern’s big data analytics platform and mine massive amounts of data using various toolsets like R, Python, Spark, TensorFlow, Keras, OpenCV, Hive, etc. \n",
    "\n",
    "Skills: Proficiency in R, Python, Spark, TensorFlow, Keras, OpenCV, Hive, etc. preferred. \n",
    "\n",
    "Education/Experience \n",
    "\n",
    "Master’s/PhD Degree \n",
    "Preferred Degree Paths: Data Science, Operations Research, Computer Science, Management Science and Statistics, and majors in a similar field of study. "
   ]
  },
  {
   "cell_type": "markdown",
   "metadata": {},
   "source": [
    "## Discussion"
   ]
  },
  {
   "cell_type": "markdown",
   "metadata": {},
   "source": [
    "Skill I own - Python.\n",
    "Skills I do not have - most skills mentioned in the posting.\n",
    "Education - I do not have degree in the similar fileds."
   ]
  },
  {
   "cell_type": "markdown",
   "metadata": {},
   "source": [
    "## Posting 2"
   ]
  },
  {
   "cell_type": "markdown",
   "metadata": {},
   "source": [
    "As an ML/AI engineer with Honeywell, this is your opportunity to: \n",
    "\n",
    "Develop relationships with business team members by being proactive, displaying a thorough understanding of the business processes and by recommending innovative solutions \n",
    "\n",
    "Provide data modeling, mining, pattern analysis, data visualization, and machine learning solutions to address customer needs \n",
    "\n",
    "Work with our businesses and infrastructure teams to develop a strategy that will clearly outline how our enterprise platforms can enable business growth & productivity by seamlessly combining structured and unstructured data into a single, self-service analytical environment \n",
    "\n",
    "Build fast data and machine learning solutions to address unique and complex problems in the industrial services industry \n",
    "\n",
    "50 Machine Learning \n",
    "25 Deep Learning \n",
    "25 Big Data \n",
    "YOU MUST HAVE \n",
    "\n",
    "BS or MS in Computer Science, Engineering, Applied Mathematics or related field \n",
    "\n",
    "At least 5+ years of modeling/development experience in (identify specific language) \n",
    "\n",
    "At least 3+ years' practical experience in Machine Learning or AI Algorithm Development \n",
    "\n",
    "At least 4+ years of experience programming in Python, R, Scala or Java \n",
    "\n",
    "At least 3+ years of individual contributions (academic or professional) in Predictive Analytics, Supervised/Unsupervised Machine Learning, Computer Vision, Deep Learning algorithms \n",
    "\n",
    "Cross platform (Linux, Windows) software development experience \n",
    "\n",
    "Hardware and software system integration experience/expertise \n",
    "\n",
    "A strong understanding of big data concepts and knowledge of big data languages/tools \n",
    "\n",
    "Exceptional AI skills, including a strong understanding of statistics, probability, and \n",
    "algorithms that enable you to quickly come up with solutions that combine multiple information streams rationally produce uncertainty estimates or tailor standard techniques such as Conditional Random Fields or Deep Neural Nets to new domains. \n",
    "\n",
    "Experience with Docker containers and orchestration platforms such as Kubernetes, ECS, or GKE. \n",
    "\n",
    "Experience in automation and build infrastructure in large-scale and distributed environment \n",
    "\n",
    "Leverage expertise in Big Data techniques like Extract Transform and Load (ETL) processes \n",
    "\n",
    "Demonstrate deep knowledge of database management systems, data platforms (e.g. Streaming Data Platform, Kafka, Logstash, Teradata, Hadoop, etc.), and data formats (e.g. SQL, NoSQL, AWS S3, JSON, Redis, neo4j, etc.) for efficient ML feature extraction and data transformations \n",
    "\n",
    "Provide active mentorship/guidance to junior members of the Agile Tech team and participate in internal and external technology communities \n",
    "\n",
    "WE VALUE \n",
    "\n",
    "Master’s degree in Computer Science, Engineering, Applied Mathematics or related field \n",
    "\n",
    "Experience bringing prototypes to production on Hadoop and/or NoSQL platforms \n",
    "\n",
    "Experience with visualization software (Tableau, Spotfire, Qlikview, d3.js) \n",
    "\n",
    "Experience working with remote and global teams \n",
    "\n",
    "Ability to work collaboratively with development/implementation staff through the design and build of new business processes and systems \n",
    "\n",
    "Experience with data warehouses/SQL/ NoSQL, AWS S3, structured/unstructured data environments/Hadoop Stack, Impala, Apache Spark, Kafka, JSON, HDFS, or AWS cloud \n",
    "\n",
    "Ability to stay abreast of current and emerging technologies in support of new concept development "
   ]
  },
  {
   "cell_type": "markdown",
   "metadata": {},
   "source": [
    "## Discussion"
   ]
  },
  {
   "cell_type": "markdown",
   "metadata": {},
   "source": [
    "Education - I do not have degree in the related field.\n",
    "Skills that I have - Python.\n",
    "Skills that I do not have - most of the skills mentioned in the post."
   ]
  },
  {
   "cell_type": "markdown",
   "metadata": {},
   "source": [
    "## Posting 3"
   ]
  },
  {
   "cell_type": "markdown",
   "metadata": {},
   "source": [
    "Position Purpose:\n",
    "At HomeDepot.com, our award-winning e-Commerce team is blazing a trail of retail shopping innovation by leveraging cutting-edge technology with our 2,200+ store locations and a relentless focus on customer service. We have been named one of the world's most innovative companies and we are on a mission to provide the best interconnected shopping experience to our consumers. To do so, we need more dreamers, innovators and big thinkers passionate about re-imagining the future of retail. Interested in making history with us? If so, apply today to experience what it’s like to be a part of our HomeDepot.com team. Who knows? Your next big idea may just change the future of retail! \n",
    "Our Data Scientists are pioneers in building the next generation of retail interconnected experience for homedepot.com by leveraging Artificial Intelligence and Statistics. With deep learning, machine learning, predictive modeling, NLP, pattern recognition and computer vision, we innovate and implement cutting-edge solutions to surprise and delight our customers. By partnering with business leaders, this role will turn business strategy into reality and make a game-changing impact to customer experience and the bottom line performance of homedepot.com. \n",
    "\n",
    "What you’ll do:\n",
    "Develop algorithms on large-scale datasets using deep learning, machine learning, statistical modeling, and data mining techniques \n",
    "Implement scalable and efficient modeling algorithms that can work with large-scale data in production systems \n",
    "Collaborate with product management and engineering groups to develop new products and features \n",
    "Build customer segmentation, personalized recommendation, automated chat bots, image recognition, etc. \n",
    "Communicate and present your reasoning, methodology and results to peers and leadership team \n",
    "Continuously seek for opportunities to learn and improve knowledge, skills and processes. \n",
    "What you need to succeed \n",
    "\n",
    "PhD or MS degree in Computer Science, Electrical Engineering, Statistics, Applied Math, Econometrics, Operations Research, or other related fields. \n",
    "Deep understanding of statistical modeling, machine learning, or data mining concepts, and a track record of solving problems with these methods. \n",
    "Proficient in one or more machine learning or statistical modeling tools such as ScikitLearn, Tensorflow, and R \n",
    "Strong analytical and quantitative problem solving ability. \n",
    "Excellent communication skills with both technical and business people, able to speak at a level appropriate for the audience. \n",
    "Strong autonomy and team player \n",
    "Preferred Qualifications \n",
    "\n",
    "Experience with Google Cloud Platform (such as BigQuery, Compute Engine, Data Flow, ..) \n",
    "Experience with relational (SQL) and NoSQL Databases \n",
    "Experience with developing products deployed to production \n",
    "Experience in developing Search, Recommendation, Visual and/or Language applications \n",
    "\n",
    "Major Tasks, Responsibilities and Key Accountabilities:\n",
    "50%-Design and develop algorithms and models to use against large datasets to create business insights \n",
    "20%-Establish scalable, efficient processes for large scale data analyses, model development and model implementation \n",
    "20%-Present analysis and resulting recommendations to senior management; Leverage data to present a compelling business case to optimize investments and operations \n",
    "10%-Communicate and educate technical and non-technical employees on analytics and data-driven decision making \n",
    "\n",
    "Nature and Scope:\n",
    "This position reports to Director of Data Science, or Sr. Manager, Data Science \n",
    "This position has no direct reports \n"
   ]
  },
  {
   "cell_type": "markdown",
   "metadata": {},
   "source": [
    "## Discussion"
   ]
  },
  {
   "cell_type": "markdown",
   "metadata": {},
   "source": [
    "Education - I do not have degree in the related field.\n",
    "Skills that I have - Python.\n",
    "Skills that I do not have - most of the skills mentioned in the post."
   ]
  }
 ],
 "metadata": {
  "kernelspec": {
   "display_name": "Python 3",
   "language": "python",
   "name": "python3"
  },
  "language_info": {
   "codemirror_mode": {
    "name": "ipython",
    "version": 3
   },
   "file_extension": ".py",
   "mimetype": "text/x-python",
   "name": "python",
   "nbconvert_exporter": "python",
   "pygments_lexer": "ipython3",
   "version": "3.7.1"
  }
 },
 "nbformat": 4,
 "nbformat_minor": 2
}
