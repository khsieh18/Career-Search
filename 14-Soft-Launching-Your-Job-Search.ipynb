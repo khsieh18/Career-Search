{
 "cells": [
  {
   "cell_type": "markdown",
   "metadata": {},
   "source": [
    "## Weekdays\n",
    "### Morning: Working\n",
    "### Noon: Working\n",
    "### Afternoon: Working\n",
    "### Evening: Edit LinkedIn Profile"
   ]
  },
  {
   "cell_type": "markdown",
   "metadata": {},
   "source": [
    "## Weekends\n",
    "### Morning: Edit Resume\n",
    "### Noon: Break\n",
    "### Afternoon: Job Search\n",
    "### Evening: Coding Practice"
   ]
  }
 ],
 "metadata": {
  "kernelspec": {
   "display_name": "Python 3",
   "language": "python",
   "name": "python3"
  },
  "language_info": {
   "codemirror_mode": {
    "name": "ipython",
    "version": 3
   },
   "file_extension": ".py",
   "mimetype": "text/x-python",
   "name": "python",
   "nbconvert_exporter": "python",
   "pygments_lexer": "ipython3",
   "version": "3.6.6"
  }
 },
 "nbformat": 4,
 "nbformat_minor": 2
}
